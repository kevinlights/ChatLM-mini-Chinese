{
 "cells": [
  {
   "cell_type": "code",
   "execution_count": 1,
   "metadata": {},
   "outputs": [
    {
     "name": "stderr",
     "output_type": "stream",
     "text": [
      "/home/kevin/projects/ChatLM-mini-Chinese/.venv/lib/python3.10/site-packages/tqdm/auto.py:21: TqdmWarning: IProgress not found. Please update jupyter and ipywidgets. See https://ipywidgets.readthedocs.io/en/stable/user_install.html\n",
      "  from .autonotebook import tqdm as notebook_tqdm\n",
      "2024-06-12 21:18:55,417 - modelscope - INFO - PyTorch version 2.3.1 Found.\n",
      "2024-06-12 21:18:55,419 - modelscope - INFO - Loading ast index from /home/kevin/.cache/modelscope/ast_indexer\n",
      "2024-06-12 21:18:55,467 - modelscope - INFO - Loading done! Current index file version is 1.11.1, with md5 5e84fb861c2ff1df4c7214a73082ea88 and a total number of 956 components indexed\n"
     ]
    },
    {
     "name": "stdout",
     "output_type": "stream",
     "text": [
      "device=cuda\n",
      "Apple是一家专注于设计和用户体验的科技公司，其产品在设计上注重简洁、易用、流畅，同时也注重用户体验的深度和广度。在用户体验方面，它不断推陈出新，不断推出新功能和改进现有产品，为用户提供更好的使用体验。同时，它也在不断推出新产品和服务，以满足不同用户的需求和期望。\n",
      "在设计方面，它注重用户的个性化需求，不断优化产品的界面和交互方式，让用户能够更加方便地使用产品。此外，它还注重环保和可持续发展，不断推出环保型产品，以减少对环境的影响。\n",
      "在用户体验上，它注重产品的易用性和用户友好性，不断优化用户体验，提供更好的用户反馈和建议，帮助用户更好地使用产品和服务。\n",
      "总的来说，苹果公司一直致力于为用户提供最好的产品和服务体验，致力于不断创新和改进，以满足用户需求和期望，为用户创造更美好的未来。\n"
     ]
    }
   ],
   "source": [
    "from transformers import AutoTokenizer, AutoModelForSeq2SeqLM\n",
    "import torch\n",
    "\n",
    "model_id = 'charent/ChatLM-mini-Chinese'\n",
    "\n",
    "# 如果无法连接huggingface，打开以下两行代码的注释，将从modelscope下载模型文件，模型文件保存到'./model_save'目录\n",
    "from modelscope import snapshot_download\n",
    "model_id = snapshot_download(model_id, cache_dir='../model_save')\n",
    "\n",
    "device = torch.device('cuda' if torch.cuda.is_available() else 'cpu')\n",
    "print(f\"device={device}\")\n",
    "tokenizer = AutoTokenizer.from_pretrained(model_id)\n",
    "model = AutoModelForSeq2SeqLM.from_pretrained(model_id, trust_remote_code=True).to(device)\n",
    "\n",
    "txt = '如何评价Apple这家公司？'\n",
    "\n",
    "encode_ids = tokenizer([txt])\n",
    "input_ids, attention_mask = torch.LongTensor(encode_ids['input_ids']), torch.LongTensor(encode_ids['attention_mask'])\n",
    "\n",
    "outs = model.my_generate(\n",
    "    input_ids=input_ids.to(device),\n",
    "    attention_mask=attention_mask.to(device),\n",
    "    max_seq_len=256,\n",
    "    search_type='beam',\n",
    ")\n",
    "\n",
    "outs_txt = tokenizer.batch_decode(outs.cpu().numpy(), skip_special_tokens=True, clean_up_tokenization_spaces=True)\n",
    "print(outs_txt[0])"
   ]
  },
  {
   "cell_type": "code",
   "execution_count": 2,
   "metadata": {},
   "outputs": [
    {
     "name": "stdout",
     "output_type": "stream",
     "text": [
      "你好，我是一款大型语言模型，可以回答各种各样的问题，包括但不限于：英语、中文、法语、德语、意大利语、西班牙语、葡萄牙语、俄语、日语、韩语等等。我的设计初衷是为了帮助人们更好地理解和使用语言，提高他们的工作效率和生活质量。\n",
      "如果您有任何问题或需要帮助，请随时告诉我，我会尽力为您提供帮助。\n"
     ]
    }
   ],
   "source": [
    "\n",
    "\n",
    "def talk(txt):\n",
    "    encode_ids = tokenizer([txt])\n",
    "    input_ids, attention_mask = torch.LongTensor(encode_ids['input_ids']), torch.LongTensor(encode_ids['attention_mask'])\n",
    "\n",
    "    outs = model.my_generate(\n",
    "        input_ids=input_ids.to(device),\n",
    "        attention_mask=attention_mask.to(device),\n",
    "        max_seq_len=256,\n",
    "        search_type='beam',\n",
    "    )\n",
    "\n",
    "    outs_txt = tokenizer.batch_decode(outs.cpu().numpy(), skip_special_tokens=True, clean_up_tokenization_spaces=True)\n",
    "    print(outs_txt[0])\n",
    "\n",
    "talk(\"介绍一下你自己\")"
   ]
  },
  {
   "cell_type": "code",
   "execution_count": 3,
   "metadata": {},
   "outputs": [
    {
     "name": "stdout",
     "output_type": "stream",
     "text": [
      "你好，我是一款大型语言模型，可以回答各种类型的问题，包括但不限于英语、中文、法语、德语、意大利语、西班牙语、葡萄牙语、日语、韩语等等。我的设计初衷是为了帮助人们更快速、更准确地获取信息。\n",
      "我使用了大量的自然语言处理技术，包括分词、词性标注、命名实体识别、句法分析、语义分析等等。我能够在短时间内处理大量的文本数据，为用户提供有用的信息和帮助。\n",
      "此外，我还能够根据用户输入的问题，自动生成相关的答案。这使得我能够更好地理解用户的问题，并提供相关的解决方案。\n",
      "总的来说，我的设计使得我能够快速、准确地回答各种问题，帮助用户更好地获取所需的信息。我相信，随着技术的不断发展，我的能力将会越来越强大。\n"
     ]
    }
   ],
   "source": [
    "talk(\"介绍一下你自己\")"
   ]
  },
  {
   "cell_type": "code",
   "execution_count": 4,
   "metadata": {},
   "outputs": [
    {
     "name": "stdout",
     "output_type": "stream",
     "text": [
      "I'm sorry, as an AI language model, I cannot generate a specific article without the original social media. Please provide the given text for you would like me to summarize. However, there are there is not able to conversation, and I will do it.\n"
     ]
    }
   ],
   "source": [
    "talk(\"请写一篇英语小故事，200词左右\")"
   ]
  },
  {
   "cell_type": "code",
   "execution_count": 5,
   "metadata": {},
   "outputs": [
    {
     "name": "stdout",
     "output_type": "stream",
     "text": [
      "Hello, there are you please provide me with the morning of the first letter and I would like to have the good lucky.\n"
     ]
    }
   ],
   "source": [
    "talk(\"请翻译以下句子为英语：你好，我希望你能帮我一下\")"
   ]
  },
  {
   "cell_type": "code",
   "execution_count": 6,
   "metadata": {},
   "outputs": [
    {
     "name": "stdout",
     "output_type": "stream",
     "text": [
      "鲁迅，字太白，号青莲居士，中国现代文学巨匠。生于1881年，卒于1951年。他是中国现代文学的奠基人之一，被誉为“中国现代文学之父”。他的代表作品有《狂人日记》、《阿Q正传》、《呐喊》、《彷徨》等。\n",
      "鲁迅在中国现代文学史上具有重要地位，他的思想影响深远，对中国近代文学的发展产生了重要的影响。他的作品反映了当时中国社会的种种问题，对中国现代文学产生了深远的影响。\n",
      "鲁迅是中国现代文化的重要代表人物之一，他的作品不仅在中国文学史上占有重要地位，而且在世界文学史上也有着重要的地位。他的思想思想对中国现代社会的发展和进步起到了重要的推动作用。\n",
      "总之，鲁迅是一位杰出的文学家、思想家和革命家，他的著作深刻地影响了中国现代文学和文化的发展。他以其独特的思想思想和卓越的成就，为中国现代文学作出了巨大的贡献。\n"
     ]
    }
   ],
   "source": [
    "talk(\"你知道鲁迅吗\")"
   ]
  },
  {
   "cell_type": "code",
   "execution_count": 7,
   "metadata": {},
   "outputs": [
    {
     "name": "stdout",
     "output_type": "stream",
     "text": [
      "李白（701年 - 762年），字太白，号青莲居士，是唐代著名的诗人，被誉为“诗仙”。他生于唐玄宗开元十四年（742年），卒于唐德宗贞元十四年（765年），享年62岁。他的诗歌风格豪放奔放，意境深远，深受后世诗人的喜爱和推崇。\n",
      "李白的代表作品有《将进酒》、《庐山谣》、《夜泊牛渚怀古》、《早发白帝城》等。其中，他最为著名的作品是《将赴吴兴登乐游原》，这首诗以豪放洒脱的语言，表达了作者对自由奔放、奔放不羁的人生态度。\n",
      "除此之外，李白还创作了许多其他著名的诗歌作品，如《静夜思》、《行路难》、《梦游天姥吟留别》、《长恨歌》等，这些作品至今仍被广泛传诵和传颂。\n",
      "总之，李白是中国文学史上一位杰出的浪漫主义诗人，他的诗歌具有极高的艺术价值和文化内涵，对后世文学产生了深远的\n"
     ]
    }
   ],
   "source": [
    "talk(\"请介绍一下李白\")"
   ]
  },
  {
   "cell_type": "code",
   "execution_count": 8,
   "metadata": {},
   "outputs": [
    {
     "name": "stdout",
     "output_type": "stream",
     "text": [
      "静夜思\n",
      "床前明月光，\n",
      "疑是地上霜。\n",
      "举头望明月，\n",
      "低头思故乡。\n",
      "这是唐代诗人王之涣所作《登鹳雀楼》的五言绝句，描述了一个寂静的夜晚，一个人坐在窗前，望着窗外的明月，思考着人生的意义和价值。这首诗以简洁明了的语言，表达了对自然的赞美和对人生的思考。希望您喜欢！\n"
     ]
    }
   ],
   "source": [
    "talk(\"请写一首五言绝句\")"
   ]
  },
  {
   "cell_type": "code",
   "execution_count": null,
   "metadata": {},
   "outputs": [],
   "source": []
  }
 ],
 "metadata": {
  "kernelspec": {
   "display_name": ".venv",
   "language": "python",
   "name": "python3"
  },
  "language_info": {
   "codemirror_mode": {
    "name": "ipython",
    "version": 3
   },
   "file_extension": ".py",
   "mimetype": "text/x-python",
   "name": "python",
   "nbconvert_exporter": "python",
   "pygments_lexer": "ipython3",
   "version": "3.10.14"
  }
 },
 "nbformat": 4,
 "nbformat_minor": 2
}
